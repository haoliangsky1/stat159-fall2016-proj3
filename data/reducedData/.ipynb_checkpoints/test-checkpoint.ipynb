{
 "cells": [
  {
   "cell_type": "code",
   "execution_count": 1,
   "metadata": {
    "collapsed": false
   },
   "outputs": [
    {
     "name": "stdout",
     "output_type": "stream",
     "text": [
      "read in raw data: 2011\n",
      "read in raw data: 2012\n",
      "read in raw data: 2013\n",
      "read in raw data: 2014\n",
      "read in raw data: 2015\n",
      "This is the number of columns that we use with a NaN threshold of: 0.9\n",
      "569\n"
     ]
    }
   ],
   "source": [
    "# This function drops all the columns with too many 'PrivacySuppressed' and 'Null' or 'NaN'.\n",
    "# The threshold used here\n",
    "\n",
    "import pandas as pd\n",
    "import numpy as np\n",
    "# import os\n",
    "# print(os.getcwd())\n",
    "\n",
    "def getColumns(dataset, threshold=0.9):\n",
    "    dataset.replace('PrivacvySuppressed', np.NaN)\n",
    "    numOfRow = dataset.shape[0]\n",
    "    nanList = dataset.isnull().sum().tolist()\n",
    "    columnList = list(dataset.columns.values)\n",
    "    colList = []\n",
    "    for i in range(len(columnList)):\n",
    "        column = columnList[i]\n",
    "        if nanList[i] <= numOfRow * threshold:\n",
    "            colList.append(column)\n",
    "    return colList\n",
    "\n",
    "def getRows(dataset, threshold=0.1):\n",
    "    numOfRow = dataset.shape[0]\n",
    "    numOfCol = dataset.shape[1]\n",
    "    nanList = dataset.isnull().sum(axis=1).tolist()\n",
    "    rowList = []\n",
    "    schoolList = []\n",
    "    idList = []\n",
    "    for index, row in dataset.iterrows():\n",
    "        if nanList[index] < numOfCol * threshold:\n",
    "            rowList.append(index)\n",
    "            schoolList.append(row['INSTNM'])\n",
    "            idList.append(row['OPEID'])\n",
    "    return set(idList)\n",
    "\n",
    "raw11 = pd.read_csv('../../data/rawData/MERGED2010_11_PP.csv', sep=',', error_bad_lines=False, index_col=False, dtype='unicode')\n",
    "print('read in raw data: 2011')\n",
    "raw12 = pd.read_csv('../../data/rawData/MERGED2011_12_PP.csv', sep=',', error_bad_lines=False, index_col=False, dtype='unicode')\n",
    "print('read in raw data: 2012')\n",
    "raw13 = pd.read_csv('../../data/rawData/MERGED2012_13_PP.csv', sep=',', error_bad_lines=False, index_col=False, dtype='unicode')\n",
    "print('read in raw data: 2013')\n",
    "raw14 = pd.read_csv('../../data/rawData/MERGED2013_14_PP.csv', sep=',', error_bad_lines=False, index_col=False, dtype='unicode')\n",
    "print('read in raw data: 2014')\n",
    "raw15 = pd.read_csv('../../data/rawData/MERGED2014_15_PP.csv', sep=',', error_bad_lines=False, index_col=False, dtype='unicode')\n",
    "print('read in raw data: 2015')\n",
    "rawDataList = [raw11, raw12, raw13, raw14, raw15]\n",
    "nameList = ['year11.csv', 'year12.csv','year13.csv','year14.csv','year15.csv']\n",
    "\n",
    "# Use the newest data set of 20 as base for choosing columns\n",
    "thresholdColumn = 0.9\n",
    "columnList = getColumns(raw15, thresholdColumn)\n",
    "print('This is the number of columns that we use with a NaN threshold of: ' + str(thresholdColumn))\n",
    "print(len(columnList))\n",
    "reducedColumnData = []\n",
    "\n",
    "for i in range(len(rawDataList)):\n",
    "\ttemp = rawDataList[i]\n",
    "\treduced = temp[columnList]\n",
    "\treducedColumnData.append(reduced)"
   ]
  },
  {
   "cell_type": "code",
   "execution_count": 3,
   "metadata": {
    "collapsed": false
   },
   "outputs": [
    {
     "name": "stdout",
     "output_type": "stream",
     "text": [
      "This is number of school OPEID that we use with a NaN threshold of: 0.9\n",
      "6456\n"
     ]
    }
   ],
   "source": [
    "# Use the intersection of rows to choose rows\n",
    "rowListSet = []\n",
    "thresholdRow = 0.9\n",
    "rowSet11 = getRows(reducedColumnData[0], thresholdRow)\n",
    "rowSet12 = getRows(reducedColumnData[1], thresholdRow)\n",
    "rowSet13 = getRows(reducedColumnData[2], thresholdRow)\n",
    "rowSet14 = getRows(reducedColumnData[3], thresholdRow)\n",
    "rowSet15 = getRows(reducedColumnData[4], thresholdRow)\n",
    "rowList = set.intersection(rowSet11, rowSet12, rowSet13, rowSet14, rowSet15)\n",
    "print('This is number of school OPEID that we use with a NaN threshold of: ' + str(thresholdRow))\n",
    "print(len(rowList))\n",
    "\n"
   ]
  },
  {
   "cell_type": "code",
   "execution_count": 21,
   "metadata": {
    "collapsed": false
   },
   "outputs": [
    {
     "data": {
      "text/plain": [
       "array(['\\ufeffUNITID', 'OPEID', 'OPEID6', 'INSTNM', 'CITY', 'STABBR',\n",
       "       'ZIP', 'ACCREDAGENCY', 'INSTURL', 'NPCURL', 'HCM2', 'MAIN',\n",
       "       'NUMBRANCH', 'PREDDEG', 'HIGHDEG', 'CONTROL', 'ST_FIPS', 'REGION',\n",
       "       'LOCALE', 'LATITUDE', 'LONGITUDE', 'CCBASIC', 'CCUGPROF',\n",
       "       'CCSIZSET', 'HBCU', 'PBI', 'ANNHI', 'TRIBAL', 'AANAPII', 'HSI',\n",
       "       'NANTI', 'MENONLY', 'WOMENONLY', 'RELAFFIL', 'ADM_RATE',\n",
       "       'ADM_RATE_ALL', 'SATVR25', 'SATVR75', 'SATMT25', 'SATMT75',\n",
       "       'SATVRMID', 'SATMTMID', 'ACTCM25', 'ACTCM75', 'ACTEN25', 'ACTEN75',\n",
       "       'ACTMT25', 'ACTMT75', 'ACTCMMID', 'ACTENMID', 'ACTMTMID', 'SAT_AVG',\n",
       "       'SAT_AVG_ALL', 'PCIP01', 'PCIP03', 'PCIP04', 'PCIP05', 'PCIP09',\n",
       "       'PCIP10', 'PCIP11', 'PCIP12', 'PCIP13', 'PCIP14', 'PCIP15',\n",
       "       'PCIP16', 'PCIP19', 'PCIP22', 'PCIP23', 'PCIP24', 'PCIP25',\n",
       "       'PCIP26', 'PCIP27', 'PCIP29', 'PCIP30', 'PCIP31', 'PCIP38',\n",
       "       'PCIP39', 'PCIP40', 'PCIP41', 'PCIP42', 'PCIP43', 'PCIP44',\n",
       "       'PCIP45', 'PCIP46', 'PCIP47', 'PCIP48', 'PCIP49', 'PCIP50',\n",
       "       'PCIP51', 'PCIP52', 'PCIP54', 'CIP01CERT1', 'CIP01CERT2',\n",
       "       'CIP01ASSOC', 'CIP01CERT4', 'CIP01BACHL', 'CIP03CERT1',\n",
       "       'CIP03CERT2', 'CIP03ASSOC', 'CIP03CERT4', 'CIP03BACHL',\n",
       "       'CIP04CERT1', 'CIP04CERT2', 'CIP04ASSOC', 'CIP04CERT4',\n",
       "       'CIP04BACHL', 'CIP05CERT1', 'CIP05CERT2', 'CIP05ASSOC',\n",
       "       'CIP05CERT4', 'CIP05BACHL', 'CIP09CERT1', 'CIP09CERT2',\n",
       "       'CIP09ASSOC', 'CIP09CERT4', 'CIP09BACHL', 'CIP10CERT1',\n",
       "       'CIP10CERT2', 'CIP10ASSOC', 'CIP10CERT4', 'CIP10BACHL',\n",
       "       'CIP11CERT1', 'CIP11CERT2', 'CIP11ASSOC', 'CIP11CERT4',\n",
       "       'CIP11BACHL', 'CIP12CERT1', 'CIP12CERT2', 'CIP12ASSOC',\n",
       "       'CIP12CERT4', 'CIP12BACHL', 'CIP13CERT1', 'CIP13CERT2',\n",
       "       'CIP13ASSOC', 'CIP13CERT4', 'CIP13BACHL', 'CIP14CERT1',\n",
       "       'CIP14CERT2', 'CIP14ASSOC', 'CIP14CERT4', 'CIP14BACHL',\n",
       "       'CIP15CERT1', 'CIP15CERT2', 'CIP15ASSOC', 'CIP15CERT4',\n",
       "       'CIP15BACHL', 'CIP16CERT1', 'CIP16CERT2', 'CIP16ASSOC',\n",
       "       'CIP16CERT4', 'CIP16BACHL', 'CIP19CERT1', 'CIP19CERT2',\n",
       "       'CIP19ASSOC', 'CIP19CERT4', 'CIP19BACHL', 'CIP22CERT1',\n",
       "       'CIP22CERT2', 'CIP22ASSOC', 'CIP22CERT4', 'CIP22BACHL',\n",
       "       'CIP23CERT1', 'CIP23CERT2', 'CIP23ASSOC', 'CIP23CERT4',\n",
       "       'CIP23BACHL', 'CIP24CERT1', 'CIP24CERT2', 'CIP24ASSOC',\n",
       "       'CIP24CERT4', 'CIP24BACHL', 'CIP25CERT1', 'CIP25CERT2',\n",
       "       'CIP25ASSOC', 'CIP25CERT4', 'CIP25BACHL', 'CIP26CERT1',\n",
       "       'CIP26CERT2', 'CIP26ASSOC', 'CIP26CERT4', 'CIP26BACHL',\n",
       "       'CIP27CERT1', 'CIP27CERT2', 'CIP27ASSOC', 'CIP27CERT4',\n",
       "       'CIP27BACHL', 'CIP29CERT1', 'CIP29CERT2', 'CIP29ASSOC',\n",
       "       'CIP29CERT4', 'CIP29BACHL', 'CIP30CERT1', 'CIP30CERT2',\n",
       "       'CIP30ASSOC', 'CIP30CERT4', 'CIP30BACHL', 'CIP31CERT1',\n",
       "       'CIP31CERT2', 'CIP31ASSOC', 'CIP31CERT4', 'CIP31BACHL',\n",
       "       'CIP38CERT1', 'CIP38CERT2', 'CIP38ASSOC', 'CIP38CERT4',\n",
       "       'CIP38BACHL', 'CIP39CERT1', 'CIP39CERT2', 'CIP39ASSOC',\n",
       "       'CIP39CERT4', 'CIP39BACHL', 'CIP40CERT1', 'CIP40CERT2',\n",
       "       'CIP40ASSOC', 'CIP40CERT4', 'CIP40BACHL', 'CIP41CERT1',\n",
       "       'CIP41CERT2', 'CIP41ASSOC', 'CIP41CERT4', 'CIP41BACHL',\n",
       "       'CIP42CERT1', 'CIP42CERT2', 'CIP42ASSOC', 'CIP42CERT4',\n",
       "       'CIP42BACHL', 'CIP43CERT1', 'CIP43CERT2', 'CIP43ASSOC',\n",
       "       'CIP43CERT4', 'CIP43BACHL', 'CIP44CERT1', 'CIP44CERT2',\n",
       "       'CIP44ASSOC', 'CIP44CERT4', 'CIP44BACHL', 'CIP45CERT1',\n",
       "       'CIP45CERT2', 'CIP45ASSOC', 'CIP45CERT4', 'CIP45BACHL',\n",
       "       'CIP46CERT1', 'CIP46CERT2', 'CIP46ASSOC', 'CIP46CERT4',\n",
       "       'CIP46BACHL', 'CIP47CERT1', 'CIP47CERT2', 'CIP47ASSOC',\n",
       "       'CIP47CERT4', 'CIP47BACHL', 'CIP48CERT1', 'CIP48CERT2',\n",
       "       'CIP48ASSOC', 'CIP48CERT4', 'CIP48BACHL', 'CIP49CERT1',\n",
       "       'CIP49CERT2', 'CIP49ASSOC', 'CIP49CERT4', 'CIP49BACHL',\n",
       "       'CIP50CERT1', 'CIP50CERT2', 'CIP50ASSOC', 'CIP50CERT4',\n",
       "       'CIP50BACHL', 'CIP51CERT1', 'CIP51CERT2', 'CIP51ASSOC',\n",
       "       'CIP51CERT4', 'CIP51BACHL', 'CIP52CERT1', 'CIP52CERT2',\n",
       "       'CIP52ASSOC', 'CIP52CERT4', 'CIP52BACHL', 'CIP54CERT1',\n",
       "       'CIP54CERT2', 'CIP54ASSOC', 'CIP54CERT4', 'CIP54BACHL',\n",
       "       'DISTANCEONLY', 'UGDS', 'UGDS_WHITE', 'UGDS_BLACK', 'UGDS_HISP',\n",
       "       'UGDS_ASIAN', 'UGDS_AIAN', 'UGDS_NHPI', 'UGDS_2MOR', 'UGDS_NRA',\n",
       "       'UGDS_UNKN', 'PPTUG_EF', 'CURROPER', 'NPT4_PUB', 'NPT4_PRIV',\n",
       "       'NPT41_PUB', 'NPT42_PUB', 'NPT43_PUB', 'NPT44_PUB', 'NPT45_PUB',\n",
       "       'NPT41_PRIV', 'NPT42_PRIV', 'NPT43_PRIV', 'NPT44_PRIV',\n",
       "       'NPT45_PRIV', 'NPT4_048_PUB', 'NPT4_048_PRIV', 'NPT4_3075_PUB',\n",
       "       'NPT4_3075_PRIV', 'NPT4_75UP_PUB', 'NPT4_75UP_PRIV', 'NUM4_PUB',\n",
       "       'NUM4_PRIV', 'NUM41_PUB', 'NUM42_PUB', 'NUM43_PUB', 'NUM44_PUB',\n",
       "       'NUM45_PUB', 'NUM41_PRIV', 'NUM42_PRIV', 'NUM43_PRIV', 'NUM44_PRIV',\n",
       "       'NUM45_PRIV', 'COSTT4_A', 'COSTT4_P', 'TUITIONFEE_IN',\n",
       "       'TUITIONFEE_OUT', 'TUITIONFEE_PROG', 'TUITFTE', 'INEXPFTE',\n",
       "       'AVGFACSAL', 'PFTFAC', 'PCTPELL', 'C150_4', 'C150_L4',\n",
       "       'C150_4_POOLED', 'C150_L4_POOLED', 'POOLYRS', 'PFTFTUG1_EF',\n",
       "       'D150_4', 'D150_L4', 'D150_4_POOLED', 'D150_L4_POOLED',\n",
       "       'C150_4_WHITE', 'C150_4_BLACK', 'C150_4_HISP', 'C150_4_ASIAN',\n",
       "       'C150_4_AIAN', 'C150_4_2MOR', 'C150_4_NRA', 'C150_4_UNKN',\n",
       "       'C150_L4_WHITE', 'C150_L4_BLACK', 'C150_L4_HISP', 'C150_L4_ASIAN',\n",
       "       'C150_L4_AIAN', 'C150_L4_2MOR', 'C150_L4_UNKN', 'C200_4', 'C200_L4',\n",
       "       'D200_4', 'D200_L4', 'RET_FT4', 'RET_FTL4', 'RET_PT4', 'RET_PTL4',\n",
       "       'C200_4_POOLED', 'C200_L4_POOLED', 'POOLYRS200', 'D200_4_POOLED',\n",
       "       'D200_L4_POOLED', 'PCTFLOAN', 'CDR3', 'RPY_3YR_RT',\n",
       "       'COMPL_RPY_3YR_RT', 'NONCOM_RPY_3YR_RT', 'LO_INC_RPY_3YR_RT',\n",
       "       'MD_INC_RPY_3YR_RT', 'HI_INC_RPY_3YR_RT', 'DEP_RPY_3YR_RT',\n",
       "       'IND_RPY_3YR_RT', 'PELL_RPY_3YR_RT', 'NOPELL_RPY_3YR_RT',\n",
       "       'FEMALE_RPY_3YR_RT', 'MALE_RPY_3YR_RT', 'FIRSTGEN_RPY_3YR_RT',\n",
       "       'NOTFIRSTGEN_RPY_3YR_RT', 'RPY_5YR_RT', 'COMPL_RPY_5YR_RT',\n",
       "       'NONCOM_RPY_5YR_RT', 'LO_INC_RPY_5YR_RT', 'MD_INC_RPY_5YR_RT',\n",
       "       'HI_INC_RPY_5YR_RT', 'DEP_RPY_5YR_RT', 'IND_RPY_5YR_RT',\n",
       "       'PELL_RPY_5YR_RT', 'NOPELL_RPY_5YR_RT', 'FEMALE_RPY_5YR_RT',\n",
       "       'MALE_RPY_5YR_RT', 'FIRSTGEN_RPY_5YR_RT', 'NOTFIRSTGEN_RPY_5YR_RT',\n",
       "       'RPY_7YR_RT', 'COMPL_RPY_7YR_RT', 'NONCOM_RPY_7YR_RT',\n",
       "       'LO_INC_RPY_7YR_RT', 'MD_INC_RPY_7YR_RT', 'HI_INC_RPY_7YR_RT',\n",
       "       'DEP_RPY_7YR_RT', 'IND_RPY_7YR_RT', 'PELL_RPY_7YR_RT',\n",
       "       'NOPELL_RPY_7YR_RT', 'FEMALE_RPY_7YR_RT', 'MALE_RPY_7YR_RT',\n",
       "       'FIRSTGEN_RPY_7YR_RT', 'NOTFIRSTGEN_RPY_7YR_RT', 'INC_PCT_LO',\n",
       "       'DEP_STAT_PCT_IND', 'DEP_INC_PCT_LO', 'IND_INC_PCT_LO',\n",
       "       'PAR_ED_PCT_1STGEN', 'INC_PCT_M1', 'INC_PCT_M2', 'INC_PCT_H1',\n",
       "       'INC_PCT_H2', 'DEP_INC_PCT_M1', 'DEP_INC_PCT_M2', 'DEP_INC_PCT_H1',\n",
       "       'DEP_INC_PCT_H2', 'IND_INC_PCT_M1', 'IND_INC_PCT_M2',\n",
       "       'IND_INC_PCT_H1', 'IND_INC_PCT_H2', 'PAR_ED_PCT_MS',\n",
       "       'PAR_ED_PCT_HS', 'PAR_ED_PCT_PS', 'APPL_SCH_PCT_GE2',\n",
       "       'APPL_SCH_PCT_GE3', 'APPL_SCH_PCT_GE4', 'APPL_SCH_PCT_GE5',\n",
       "       'DEP_INC_AVG', 'IND_INC_AVG', 'DEBT_MDN', 'GRAD_DEBT_MDN',\n",
       "       'WDRAW_DEBT_MDN', 'LO_INC_DEBT_MDN', 'MD_INC_DEBT_MDN',\n",
       "       'HI_INC_DEBT_MDN', 'DEP_DEBT_MDN', 'IND_DEBT_MDN', 'PELL_DEBT_MDN',\n",
       "       'NOPELL_DEBT_MDN', 'FEMALE_DEBT_MDN', 'MALE_DEBT_MDN',\n",
       "       'FIRSTGEN_DEBT_MDN', 'NOTFIRSTGEN_DEBT_MDN', 'DEBT_N',\n",
       "       'GRAD_DEBT_N', 'WDRAW_DEBT_N', 'LO_INC_DEBT_N', 'MD_INC_DEBT_N',\n",
       "       'HI_INC_DEBT_N', 'DEP_DEBT_N', 'IND_DEBT_N', 'PELL_DEBT_N',\n",
       "       'NOPELL_DEBT_N', 'FEMALE_DEBT_N', 'MALE_DEBT_N', 'FIRSTGEN_DEBT_N',\n",
       "       'NOTFIRSTGEN_DEBT_N', 'GRAD_DEBT_MDN10YR', 'CUML_DEBT_N',\n",
       "       'CUML_DEBT_P90', 'CUML_DEBT_P75', 'CUML_DEBT_P25', 'CUML_DEBT_P10',\n",
       "       'INC_N', 'DEP_INC_N', 'IND_INC_N', 'DEP_STAT_N', 'PAR_ED_N',\n",
       "       'APPL_SCH_N', 'RPY_3YR_N', 'COMPL_RPY_3YR_N', 'NONCOM_RPY_3YR_N',\n",
       "       'LO_INC_RPY_3YR_N', 'MD_INC_RPY_3YR_N', 'HI_INC_RPY_3YR_N',\n",
       "       'DEP_RPY_3YR_N', 'IND_RPY_3YR_N', 'PELL_RPY_3YR_N',\n",
       "       'NOPELL_RPY_3YR_N', 'FEMALE_RPY_3YR_N', 'MALE_RPY_3YR_N',\n",
       "       'FIRSTGEN_RPY_3YR_N', 'NOTFIRSTGEN_RPY_3YR_N', 'RPY_5YR_N',\n",
       "       'COMPL_RPY_5YR_N', 'NONCOM_RPY_5YR_N', 'LO_INC_RPY_5YR_N',\n",
       "       'MD_INC_RPY_5YR_N', 'HI_INC_RPY_5YR_N', 'DEP_RPY_5YR_N',\n",
       "       'IND_RPY_5YR_N', 'PELL_RPY_5YR_N', 'NOPELL_RPY_5YR_N',\n",
       "       'FEMALE_RPY_5YR_N', 'MALE_RPY_5YR_N', 'FIRSTGEN_RPY_5YR_N',\n",
       "       'NOTFIRSTGEN_RPY_5YR_N', 'RPY_7YR_N', 'COMPL_RPY_7YR_N',\n",
       "       'NONCOM_RPY_7YR_N', 'LO_INC_RPY_7YR_N', 'MD_INC_RPY_7YR_N',\n",
       "       'HI_INC_RPY_7YR_N', 'DEP_RPY_7YR_N', 'IND_RPY_7YR_N',\n",
       "       'PELL_RPY_7YR_N', 'NOPELL_RPY_7YR_N', 'FEMALE_RPY_7YR_N',\n",
       "       'MALE_RPY_7YR_N', 'FIRSTGEN_RPY_7YR_N', 'NOTFIRSTGEN_RPY_7YR_N',\n",
       "       'LOAN_EVER', 'PELL_EVER', 'AGE_ENTRY', 'FEMALE', 'MARRIED',\n",
       "       'DEPENDENT', 'VETERAN', 'FIRST_GEN', 'FAMINC', 'MD_FAMINC',\n",
       "       'FAMINC_IND', 'DEBT_MDN_SUPP', 'GRAD_DEBT_MDN_SUPP',\n",
       "       'GRAD_DEBT_MDN10YR_SUPP', 'RPY_3YR_RT_SUPP',\n",
       "       'LO_INC_RPY_3YR_RT_SUPP', 'MD_INC_RPY_3YR_RT_SUPP',\n",
       "       'HI_INC_RPY_3YR_RT_SUPP', 'COMPL_RPY_3YR_RT_SUPP',\n",
       "       'NONCOM_RPY_3YR_RT_SUPP', 'DEP_RPY_3YR_RT_SUPP',\n",
       "       'IND_RPY_3YR_RT_SUPP', 'PELL_RPY_3YR_RT_SUPP',\n",
       "       'NOPELL_RPY_3YR_RT_SUPP', 'FEMALE_RPY_3YR_RT_SUPP',\n",
       "       'MALE_RPY_3YR_RT_SUPP', 'FIRSTGEN_RPY_3YR_RT_SUPP',\n",
       "       'NOTFIRSTGEN_RPY_3YR_RT_SUPP', 'C150_L4_POOLED_SUPP',\n",
       "       'C150_4_POOLED_SUPP', 'C200_L4_POOLED_SUPP', 'C200_4_POOLED_SUPP',\n",
       "       'ALIAS', 'C100_4', 'D100_4', 'C100_L4', 'D100_L4', 'TRANS_4',\n",
       "       'DTRANS_4', 'TRANS_L4', 'DTRANS_L4', 'ICLEVEL', 'UGDS_MEN',\n",
       "       'UGDS_WOMEN', 'CDR3_DENOM'], dtype=object)"
      ]
     },
     "execution_count": 21,
     "metadata": {},
     "output_type": "execute_result"
    }
   ],
   "source": [
    "temp = reducedColumnData[0]\n",
    "temp.columns.values"
   ]
  },
  {
   "cell_type": "code",
   "execution_count": 20,
   "metadata": {
    "collapsed": false
   },
   "outputs": [
    {
     "ename": "TypeError",
     "evalue": "'method' object is not subscriptable",
     "output_type": "error",
     "traceback": [
      "\u001b[0;31m---------------------------------------------------------------------------\u001b[0m",
      "\u001b[0;31mTypeError\u001b[0m                                 Traceback (most recent call last)",
      "\u001b[0;32m<ipython-input-20-aa2dc98d9767>\u001b[0m in \u001b[0;36m<module>\u001b[0;34m()\u001b[0m\n\u001b[1;32m      1\u001b[0m \u001b[0;32mfor\u001b[0m \u001b[0mi\u001b[0m \u001b[0;32min\u001b[0m \u001b[0mrange\u001b[0m\u001b[0;34m(\u001b[0m\u001b[0;36m0\u001b[0m\u001b[0;34m,\u001b[0m \u001b[0mlen\u001b[0m\u001b[0;34m(\u001b[0m\u001b[0mreducedColumnData\u001b[0m\u001b[0;34m)\u001b[0m\u001b[0;34m)\u001b[0m\u001b[0;34m:\u001b[0m\u001b[0;34m\u001b[0m\u001b[0m\n\u001b[1;32m      2\u001b[0m     \u001b[0mdf\u001b[0m \u001b[0;34m=\u001b[0m \u001b[0mreducedColumnData\u001b[0m\u001b[0;34m[\u001b[0m\u001b[0mi\u001b[0m\u001b[0;34m]\u001b[0m\u001b[0;34m\u001b[0m\u001b[0m\n\u001b[0;32m----> 3\u001b[0;31m     \u001b[0mtemp\u001b[0m \u001b[0;34m=\u001b[0m \u001b[0mdf\u001b[0m\u001b[0;34m[\u001b[0m\u001b[0mdf\u001b[0m\u001b[0;34m[\u001b[0m\u001b[0;34m'OPEID'\u001b[0m\u001b[0;34m]\u001b[0m\u001b[0;34m.\u001b[0m\u001b[0misin\u001b[0m\u001b[0;34m[\u001b[0m\u001b[0mrowList\u001b[0m\u001b[0;34m]\u001b[0m\u001b[0;34m]\u001b[0m\u001b[0;34m\u001b[0m\u001b[0m\n\u001b[0m",
      "\u001b[0;31mTypeError\u001b[0m: 'method' object is not subscriptable"
     ]
    }
   ],
   "source": [
    "for i in range(0, len(reducedColumnData)):\n",
    "    df = reducedColumnData[i]\n",
    "    temp = df.loc[df['OPEID'].isin(some_values)]"
   ]
  },
  {
   "cell_type": "code",
   "execution_count": 19,
   "metadata": {
    "collapsed": false
   },
   "outputs": [
    {
     "ename": "TypeError",
     "evalue": "'method' object is not subscriptable",
     "output_type": "error",
     "traceback": [
      "\u001b[0;31m---------------------------------------------------------------------------\u001b[0m",
      "\u001b[0;31mTypeError\u001b[0m                                 Traceback (most recent call last)",
      "\u001b[0;32m<ipython-input-19-b7d06fa00c46>\u001b[0m in \u001b[0;36m<module>\u001b[0;34m()\u001b[0m\n\u001b[1;32m      2\u001b[0m \u001b[0;32mfor\u001b[0m \u001b[0mi\u001b[0m \u001b[0;32min\u001b[0m \u001b[0mrange\u001b[0m\u001b[0;34m(\u001b[0m\u001b[0;36m0\u001b[0m\u001b[0;34m,\u001b[0m \u001b[0mlen\u001b[0m\u001b[0;34m(\u001b[0m\u001b[0mreducedColumnData\u001b[0m\u001b[0;34m)\u001b[0m\u001b[0;34m)\u001b[0m\u001b[0;34m:\u001b[0m\u001b[0;34m\u001b[0m\u001b[0m\n\u001b[1;32m      3\u001b[0m     \u001b[0mdf\u001b[0m \u001b[0;34m=\u001b[0m \u001b[0mreducedColumnData\u001b[0m\u001b[0;34m[\u001b[0m\u001b[0mi\u001b[0m\u001b[0;34m]\u001b[0m\u001b[0;34m\u001b[0m\u001b[0m\n\u001b[0;32m----> 4\u001b[0;31m     \u001b[0mtemp\u001b[0m \u001b[0;34m=\u001b[0m \u001b[0mdf\u001b[0m\u001b[0;34m.\u001b[0m\u001b[0miloc\u001b[0m\u001b[0;34m[\u001b[0m\u001b[0mdf\u001b[0m\u001b[0;34m[\u001b[0m\u001b[0;34m'OPEID'\u001b[0m\u001b[0;34m]\u001b[0m\u001b[0;34m.\u001b[0m\u001b[0misin\u001b[0m\u001b[0;34m[\u001b[0m\u001b[0mrowList\u001b[0m\u001b[0;34m]\u001b[0m\u001b[0;34m]\u001b[0m\u001b[0;34m\u001b[0m\u001b[0m\n\u001b[0m\u001b[1;32m      5\u001b[0m     \u001b[0mreducedDataList\u001b[0m\u001b[0;34m.\u001b[0m\u001b[0mappend\u001b[0m\u001b[0;34m(\u001b[0m\u001b[0mtemp\u001b[0m\u001b[0;34m)\u001b[0m\u001b[0;34m\u001b[0m\u001b[0m\n\u001b[1;32m      6\u001b[0m \u001b[0;34m\u001b[0m\u001b[0m\n",
      "\u001b[0;31mTypeError\u001b[0m: 'method' object is not subscriptable"
     ]
    }
   ],
   "source": [
    "reducedDataList = []\n",
    "for i in range(0, len(reducedColumnData)):\n",
    "    df = reducedColumnData[i]\n",
    "    temp = df.iloc[df['OPEID'].isin[rowList]]\n",
    "    reducedDataList.append(temp)\n",
    "\n"
   ]
  },
  {
   "cell_type": "code",
   "execution_count": null,
   "metadata": {
    "collapsed": true
   },
   "outputs": [],
   "source": [
    "# Output supportive dataset\n",
    "path = '../../data/reducedData/'\n",
    "for i in range(len(reducedDataList)):\n",
    "    filename = path + nameList[i]\n",
    "    temp = reducedDataList[i]\n",
    "    temp.to_csv(filename)\n",
    "    print(nameList[i] + ' converted.')\n",
    "\n",
    "\n",
    "# Merge the data set\n",
    "finalDF = pd.DataFrame()\n",
    "year11 = reducedDataList[0]\n",
    "year12 = reducedDataList[1]\n",
    "year13 = reducedDataList[2]\n",
    "year14 = reducedDataList[3]\n",
    "year15 = reducedDataList[4]\n",
    "# for column in columnList:\n",
    "#     if year11[column][1].isdigit():\n",
    "#         finalDF[column] = 0.4 * int(year15[column]) + \\\n",
    "#                           0.3 * int(year14[column]) + 0.2 * int(year13[column]) + \\\n",
    "#                           0.05 * int(year11[column]) + 0.05 * int(year12[column])\n",
    "#     else:\n",
    "#         finalDF[column] = year11[column]\n",
    "# # Output as cleaned-up data\n",
    "# finalDF.to_csv('../../data/cleanedUp.csv')"
   ]
  },
  {
   "cell_type": "code",
   "execution_count": null,
   "metadata": {
    "collapsed": true
   },
   "outputs": [],
   "source": []
  }
 ],
 "metadata": {
  "kernelspec": {
   "display_name": "Python 3",
   "language": "python",
   "name": "python3"
  },
  "language_info": {
   "codemirror_mode": {
    "name": "ipython",
    "version": 3
   },
   "file_extension": ".py",
   "mimetype": "text/x-python",
   "name": "python",
   "nbconvert_exporter": "python",
   "pygments_lexer": "ipython3",
   "version": "3.5.0"
  }
 },
 "nbformat": 4,
 "nbformat_minor": 0
}
